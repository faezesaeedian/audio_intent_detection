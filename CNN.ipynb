{
  "cells": [
    {
      "cell_type": "code",
      "execution_count": 163,
      "metadata": {
        "id": "yguU4opN631x"
      },
      "outputs": [],
      "source": [
        "import librosa\n",
        "import numpy as np\n",
        "import keras\n",
        "from keras.layers import Dense, Conv2D, MaxPooling2D, Flatten, Dropout\n",
        "from keras.optimizers import Adam\n",
        "from keras.optimizers import SGD\n",
        "from keras.models import Sequential\n",
        "from sklearn.preprocessing import LabelEncoder\n",
        "from sklearn.model_selection import train_test_split\n",
        "import tensorflow as tf\n",
        "from sklearn.metrics import f1_score"
      ]
    },
    {
      "cell_type": "code",
      "execution_count": 164,
      "metadata": {
        "id": "-SZHI0yYiTRm"
      },
      "outputs": [],
      "source": [
        "import pandas as pd\n",
        "import numpy as np\n",
        "import glob\n",
        "from matplotlib import pyplot as plt\n",
        "from mutagen.wave import WAVE\n",
        "import sys\n",
        "import librosa\n",
        "import os"
      ]
    },
    {
      "cell_type": "code",
      "execution_count": 165,
      "metadata": {
        "id": "M7iP1BYvrd56"
      },
      "outputs": [],
      "source": [
        "import zipfile\n",
        "zip_ref = zipfile.ZipFile('/content/drive/MyDrive/dsl_data.zip', 'r') \n",
        "zip_ref.extractall('/tmp')\n",
        "zip_ref.close()"
      ]
    },
    {
      "cell_type": "code",
      "execution_count": 166,
      "metadata": {
        "colab": {
          "base_uri": "https://localhost:8080/"
        },
        "id": "CJZ4bpdQrzfd",
        "outputId": "f9386eb2-0860-4d94-dc45-a631594c25de"
      },
      "outputs": [
        {
          "output_type": "execute_result",
          "data": {
            "text/plain": [
              "(9854, 10)"
            ]
          },
          "metadata": {},
          "execution_count": 166
        }
      ],
      "source": [
        "import pandas as pd\n",
        "dev= pd.read_csv('/tmp/development.csv')\n",
        "dev.shape"
      ]
    },
    {
      "cell_type": "code",
      "execution_count": 167,
      "metadata": {
        "colab": {
          "base_uri": "https://localhost:8080/"
        },
        "id": "lFjQsEdyhwQM",
        "outputId": "3838a172-6d62-4067-e61c-2ac32052ef93"
      },
      "outputs": [
        {
          "output_type": "execute_result",
          "data": {
            "text/plain": [
              "(1455, 8)"
            ]
          },
          "metadata": {},
          "execution_count": 167
        }
      ],
      "source": [
        "import pandas as pd\n",
        "val= pd.read_csv('/tmp/evaluation.csv')\n",
        "val.shape"
      ]
    },
    {
      "cell_type": "code",
      "execution_count": 8,
      "metadata": {
        "colab": {
          "base_uri": "https://localhost:8080/"
        },
        "id": "z17g7KGsiL8v",
        "outputId": "2d336559-5fb3-49f8-c5bd-0cab1f46419c"
      },
      "outputs": [
        {
          "output_type": "execute_result",
          "data": {
            "text/plain": [
              "(11309, 10)"
            ]
          },
          "metadata": {},
          "execution_count": 8
        }
      ],
      "source": [
        "df= pd.concat([dev, val], axis= 0)\n",
        "df.shape"
      ]
    },
    {
      "cell_type": "code",
      "execution_count": 9,
      "metadata": {
        "colab": {
          "base_uri": "https://localhost:8080/"
        },
        "id": "drx6SG6131jj",
        "outputId": "6f17c8a1-c82f-404f-ec32-f48827773351"
      },
      "outputs": [
        {
          "output_type": "execute_result",
          "data": {
            "text/plain": [
              "(11309, 10)"
            ]
          },
          "metadata": {},
          "execution_count": 9
        }
      ],
      "source": [
        "df['audio_name'] = df['path'].apply(lambda x: x.split('/')[-1].split('.')[0])\n",
        "df.drop('path', inplace=True, axis=1)\n",
        "df.shape"
      ]
    },
    {
      "cell_type": "code",
      "execution_count": 10,
      "metadata": {
        "colab": {
          "base_uri": "https://localhost:8080/"
        },
        "id": "7-vb6umV3_wO",
        "outputId": "33d183ff-e837-484c-99d5-7a2eebb9a8ff"
      },
      "outputs": [
        {
          "output_type": "stream",
          "name": "stdout",
          "text": [
            "9854 1455\n"
          ]
        }
      ],
      "source": [
        "import glob\n",
        "pathtrain =[]\n",
        "pathtest =[]\n",
        "path_nonzero = []\n",
        "for file in glob.glob('/tmp/audio/speakers/*'):\n",
        "  for i in glob.glob(file + '/*.wav'):\n",
        "    id= i.split('/')[-1].split('.')[0]\n",
        "    if (list(df['action'][df['audio_name']== id].isna())[0]): \n",
        "      pathtest.append(i)\n",
        "    else:\n",
        "      pathtrain.append(i)\n",
        "\n",
        "print(len(pathtrain),len(pathtest))"
      ]
    },
    {
      "cell_type": "code",
      "execution_count": 168,
      "metadata": {
        "id": "J2u2aaUChlE8"
      },
      "outputs": [],
      "source": [
        "def feature_extract(path):\n",
        "    y, sr = librosa.load(path, sr= 16000, offset=0.0, duration=5.0)\n",
        "    ###padding to 5 seconds\n",
        "    current_length = len(y)\n",
        "    padding = int(5 * sr) - current_length\n",
        "    y_pad = np.pad(y, (0, padding), mode='constant')\n",
        "    ##### extracting featuers\n",
        "    mfcc = librosa.feature.mfcc(y= y_pad, sr= sr, n_fft= 1024, hop_length= 512, fmax= 8000, n_mfcc= 50)\n",
        "    return mfcc"
      ]
    },
    {
      "cell_type": "code",
      "execution_count": null,
      "metadata": {
        "id": "OlraivitifbY"
      },
      "outputs": [],
      "source": [
        "#######features of audio\n",
        "lis= []\n",
        "dic= {}\n",
        "for i in pathtrain:\n",
        "  id= i.split('/')[-1].split('.')[0]\n",
        "  feature= feature_extract(i)\n",
        "  lis.append(feature)\n",
        "  dic[id]= feature"
      ]
    },
    {
      "cell_type": "code",
      "execution_count": 134,
      "metadata": {
        "id": "_4G8-oGpGdta"
      },
      "outputs": [],
      "source": [
        "###### labels\n",
        "yy=[]\n",
        "for file in pathtrain:\n",
        "  id= file.split('/')[-1].split('.')[0]\n",
        "  action=list(df['action'][df['audio_name']== id])[0]\n",
        "  objject=list(df['object'][df['audio_name']== id])[0]\n",
        "  result= str(action) + str(objject)\n",
        "  yy.append(result)"
      ]
    },
    {
      "cell_type": "code",
      "execution_count": 135,
      "metadata": {
        "id": "JUiiwOeI5_1j"
      },
      "outputs": [],
      "source": [
        "#####check size of audios\n",
        "a= []\n",
        "for i in range(0, len(lis)):\n",
        "  c= lis[i].shape[1]\n",
        "  a.append(c)"
      ]
    },
    {
      "cell_type": "code",
      "execution_count": 136,
      "metadata": {
        "colab": {
          "base_uri": "https://localhost:8080/"
        },
        "id": "5QFus420sG68",
        "outputId": "2074d460-aba0-4bad-9bc1-80c5337db86d"
      },
      "outputs": [
        {
          "output_type": "stream",
          "name": "stdout",
          "text": [
            "157 157\n"
          ]
        }
      ],
      "source": [
        "print(np.min(a), np.max(a))"
      ]
    },
    {
      "cell_type": "code",
      "execution_count": 137,
      "metadata": {
        "colab": {
          "base_uri": "https://localhost:8080/"
        },
        "id": "IgihvA43ItsB",
        "outputId": "4df86258-ed26-4157-f0ab-eea983194517"
      },
      "outputs": [
        {
          "output_type": "execute_result",
          "data": {
            "text/plain": [
              "(50, 157)"
            ]
          },
          "metadata": {},
          "execution_count": 137
        }
      ],
      "source": [
        "lis[0].shape"
      ]
    },
    {
      "cell_type": "code",
      "execution_count": 138,
      "metadata": {
        "id": "QiUhGHpE2s18"
      },
      "outputs": [],
      "source": [
        "# Split the data into training and test sets\n",
        "X_train, X_test, y_train, y_test = train_test_split(lis, yy, test_size=0.2, random_state=42, stratify= yy)\n",
        "\n",
        "# # Encode the labels as integers\n",
        "encoder = LabelEncoder()\n",
        "y_train = encoder.fit_transform(y_train)\n",
        "\n",
        "y_test = encoder.transform(y_test)\n",
        "\n",
        "# # Reshape the data to be in the form (samples, height, width, channels)\n",
        "X_train = np.reshape(X_train, (-1, 50, 157, 1))\n",
        "X_test = np.reshape(X_test, (-1, 50, 157, 1))"
      ]
    },
    {
      "cell_type": "code",
      "execution_count": 115,
      "metadata": {
        "id": "EZ5QXLKRA4_8"
      },
      "outputs": [],
      "source": [
        "from sklearn.utils.class_weight import compute_class_weight\n",
        "class_weights = compute_class_weight(class_weight = \"balanced\", classes= np.unique(y_train), y= y_train)\n",
        "class_weights = dict(enumerate(class_weights))"
      ]
    },
    {
      "cell_type": "code",
      "execution_count": 145,
      "metadata": {
        "id": "UQnE-QlftKze"
      },
      "outputs": [],
      "source": [
        "# Create the model\n",
        "model = Sequential()\n",
        "model.add(Conv2D(64, (3, 3), activation='relu', input_shape=(50, 157, 1)))\n",
        "model.add(MaxPooling2D((2, 2)))\n",
        "model.add(Conv2D(64, (3, 3), activation='relu'))\n",
        "model.add(MaxPooling2D((2, 2)))\n",
        "model.add(Conv2D(64, (3, 3), activation='relu'))\n",
        "model.add(MaxPooling2D((2, 2)))\n",
        "model.add(Conv2D(64, (3, 3), activation='relu'))\n",
        "model.add(MaxPooling2D((2, 2)))\n",
        "# model.add(Conv2D(32, (3, 3), activation='relu'))\n",
        "# model.add(MaxPooling2D((2, 2)))\n",
        "# model.add(Conv2D(32, (3, 3), activation='relu'))\n",
        "model.add(Flatten())\n",
        "model.add(Dense(32, activation='relu'))\n",
        "model.add(Dense(len(encoder.classes_), activation='softmax'))\n",
        "\n",
        "# Compile and train the model\n",
        "model.compile(optimizer=Adam(lr=0.001), loss='sparse_categorical_crossentropy', metrics=['accuracy'])"
      ]
    },
    {
      "cell_type": "code",
      "execution_count": 146,
      "metadata": {
        "id": "7nJd9N751v3l"
      },
      "outputs": [],
      "source": [
        "checkpoint= \"weights_mfcc.{epoch:02d}-{val_loss:.2f}-{val_accuracy:.2f}.hdf5\"\n",
        "model_checkpoint_callback= tf.keras.callbacks.ModelCheckpoint(filepath= checkpoint, save_freq=\"epoch\",\n",
        "        save_best_only=True, save_weights_only=False, monitor='val_accuracy')"
      ]
    },
    {
      "cell_type": "code",
      "execution_count": 147,
      "metadata": {
        "id": "LotdQ-JfdIT8",
        "colab": {
          "base_uri": "https://localhost:8080/"
        },
        "outputId": "4bf685fa-046b-4c0d-c274-835775efa4a9"
      },
      "outputs": [
        {
          "output_type": "stream",
          "name": "stdout",
          "text": [
            "Epoch 1/50\n",
            "247/247 [==============================] - 4s 14ms/step - loss: 1.8289 - accuracy: 0.2481 - val_loss: 1.7480 - val_accuracy: 0.2704\n",
            "Epoch 2/50\n",
            "247/247 [==============================] - 3s 13ms/step - loss: 1.5252 - accuracy: 0.3268 - val_loss: 1.5357 - val_accuracy: 0.3577\n",
            "Epoch 3/50\n",
            "247/247 [==============================] - 3s 13ms/step - loss: 1.1375 - accuracy: 0.4949 - val_loss: 1.0196 - val_accuracy: 0.5698\n",
            "Epoch 4/50\n",
            "247/247 [==============================] - 3s 13ms/step - loss: 0.8548 - accuracy: 0.5917 - val_loss: 1.0064 - val_accuracy: 0.5703\n",
            "Epoch 5/50\n",
            "247/247 [==============================] - 3s 13ms/step - loss: 0.6961 - accuracy: 0.6485 - val_loss: 0.8510 - val_accuracy: 0.6149\n",
            "Epoch 6/50\n",
            "247/247 [==============================] - 3s 13ms/step - loss: 0.5758 - accuracy: 0.6977 - val_loss: 0.7428 - val_accuracy: 0.6814\n",
            "Epoch 7/50\n",
            "247/247 [==============================] - 3s 13ms/step - loss: 0.5104 - accuracy: 0.7369 - val_loss: 0.7516 - val_accuracy: 0.6895\n",
            "Epoch 8/50\n",
            "247/247 [==============================] - 3s 13ms/step - loss: 0.4275 - accuracy: 0.7772 - val_loss: 0.7240 - val_accuracy: 0.7204\n",
            "Epoch 9/50\n",
            "247/247 [==============================] - 3s 14ms/step - loss: 0.3745 - accuracy: 0.8100 - val_loss: 0.7175 - val_accuracy: 0.7407\n",
            "Epoch 10/50\n",
            "247/247 [==============================] - 3s 13ms/step - loss: 0.3514 - accuracy: 0.8247 - val_loss: 0.7213 - val_accuracy: 0.7397\n",
            "Epoch 11/50\n",
            "247/247 [==============================] - 3s 13ms/step - loss: 0.2979 - accuracy: 0.8498 - val_loss: 0.7338 - val_accuracy: 0.7534\n",
            "Epoch 12/50\n",
            "247/247 [==============================] - 3s 13ms/step - loss: 0.2351 - accuracy: 0.8796 - val_loss: 0.7549 - val_accuracy: 0.7494\n",
            "Epoch 13/50\n",
            "247/247 [==============================] - 3s 13ms/step - loss: 0.2016 - accuracy: 0.9013 - val_loss: 0.7969 - val_accuracy: 0.7610\n",
            "Epoch 14/50\n",
            "247/247 [==============================] - 3s 13ms/step - loss: 0.1869 - accuracy: 0.9049 - val_loss: 0.8144 - val_accuracy: 0.7605\n",
            "Epoch 15/50\n",
            "247/247 [==============================] - 3s 13ms/step - loss: 0.1769 - accuracy: 0.9168 - val_loss: 0.7952 - val_accuracy: 0.7646\n",
            "Epoch 16/50\n",
            "247/247 [==============================] - 3s 13ms/step - loss: 0.1669 - accuracy: 0.9202 - val_loss: 0.8026 - val_accuracy: 0.7742\n",
            "Epoch 17/50\n",
            "247/247 [==============================] - 3s 13ms/step - loss: 0.1099 - accuracy: 0.9470 - val_loss: 0.8648 - val_accuracy: 0.7829\n",
            "Epoch 18/50\n",
            "247/247 [==============================] - 3s 13ms/step - loss: 0.1269 - accuracy: 0.9401 - val_loss: 0.8091 - val_accuracy: 0.7651\n",
            "Epoch 19/50\n",
            "247/247 [==============================] - 3s 13ms/step - loss: 0.1784 - accuracy: 0.9266 - val_loss: 1.0125 - val_accuracy: 0.7610\n",
            "Epoch 20/50\n",
            "247/247 [==============================] - 3s 13ms/step - loss: 0.1165 - accuracy: 0.9418 - val_loss: 0.8948 - val_accuracy: 0.7813\n",
            "Epoch 21/50\n",
            "247/247 [==============================] - 3s 13ms/step - loss: 0.0523 - accuracy: 0.9745 - val_loss: 0.8901 - val_accuracy: 0.8097\n",
            "Epoch 22/50\n",
            "247/247 [==============================] - 3s 13ms/step - loss: 0.0172 - accuracy: 0.9912 - val_loss: 0.9310 - val_accuracy: 0.8077\n",
            "Epoch 23/50\n",
            "247/247 [==============================] - 3s 13ms/step - loss: 0.0088 - accuracy: 0.9972 - val_loss: 0.9755 - val_accuracy: 0.8062\n",
            "Epoch 24/50\n",
            "247/247 [==============================] - 3s 13ms/step - loss: 0.2632 - accuracy: 0.9011 - val_loss: 0.9887 - val_accuracy: 0.7539\n",
            "Epoch 25/50\n",
            "247/247 [==============================] - 3s 13ms/step - loss: 0.1327 - accuracy: 0.9432 - val_loss: 1.0290 - val_accuracy: 0.7661\n",
            "Epoch 26/50\n",
            "247/247 [==============================] - 3s 13ms/step - loss: 0.1138 - accuracy: 0.9515 - val_loss: 0.9804 - val_accuracy: 0.7534\n",
            "Epoch 27/50\n",
            "247/247 [==============================] - 3s 13ms/step - loss: 0.1228 - accuracy: 0.9488 - val_loss: 1.1416 - val_accuracy: 0.7641\n",
            "Epoch 28/50\n",
            "247/247 [==============================] - 3s 13ms/step - loss: 0.0403 - accuracy: 0.9806 - val_loss: 0.9045 - val_accuracy: 0.8067\n",
            "Epoch 29/50\n",
            "247/247 [==============================] - 3s 13ms/step - loss: 0.0116 - accuracy: 0.9958 - val_loss: 0.9279 - val_accuracy: 0.8168\n",
            "Epoch 30/50\n",
            "247/247 [==============================] - 3s 13ms/step - loss: 0.0223 - accuracy: 0.9923 - val_loss: 1.3288 - val_accuracy: 0.7656\n",
            "Epoch 31/50\n",
            "247/247 [==============================] - 3s 13ms/step - loss: 0.1977 - accuracy: 0.9236 - val_loss: 1.0085 - val_accuracy: 0.7854\n",
            "Epoch 32/50\n",
            "247/247 [==============================] - 3s 13ms/step - loss: 0.0842 - accuracy: 0.9637 - val_loss: 0.8993 - val_accuracy: 0.8021\n",
            "Epoch 33/50\n",
            "247/247 [==============================] - 3s 13ms/step - loss: 0.0242 - accuracy: 0.9887 - val_loss: 1.0041 - val_accuracy: 0.8057\n",
            "Epoch 34/50\n",
            "247/247 [==============================] - 3s 14ms/step - loss: 0.0075 - accuracy: 0.9970 - val_loss: 1.0037 - val_accuracy: 0.8224\n",
            "Epoch 35/50\n",
            "247/247 [==============================] - 3s 13ms/step - loss: 0.0037 - accuracy: 0.9991 - val_loss: 1.0050 - val_accuracy: 0.8260\n",
            "Epoch 36/50\n",
            "247/247 [==============================] - 3s 13ms/step - loss: 7.1521e-04 - accuracy: 1.0000 - val_loss: 1.0253 - val_accuracy: 0.8250\n",
            "Epoch 37/50\n",
            "247/247 [==============================] - 3s 13ms/step - loss: 3.7732e-04 - accuracy: 1.0000 - val_loss: 1.0529 - val_accuracy: 0.8229\n",
            "Epoch 38/50\n",
            "247/247 [==============================] - 3s 13ms/step - loss: 2.7604e-04 - accuracy: 1.0000 - val_loss: 1.0735 - val_accuracy: 0.8255\n",
            "Epoch 39/50\n",
            "247/247 [==============================] - 3s 13ms/step - loss: 2.1731e-04 - accuracy: 1.0000 - val_loss: 1.0930 - val_accuracy: 0.8270\n",
            "Epoch 40/50\n",
            "247/247 [==============================] - 3s 13ms/step - loss: 1.7877e-04 - accuracy: 1.0000 - val_loss: 1.1083 - val_accuracy: 0.8265\n",
            "Epoch 41/50\n",
            "247/247 [==============================] - 3s 13ms/step - loss: 1.4714e-04 - accuracy: 1.0000 - val_loss: 1.1270 - val_accuracy: 0.8275\n",
            "Epoch 42/50\n",
            "247/247 [==============================] - 3s 13ms/step - loss: 1.2310e-04 - accuracy: 1.0000 - val_loss: 1.1401 - val_accuracy: 0.8270\n",
            "Epoch 43/50\n",
            "247/247 [==============================] - 3s 13ms/step - loss: 1.0383e-04 - accuracy: 1.0000 - val_loss: 1.1570 - val_accuracy: 0.8290\n",
            "Epoch 44/50\n",
            "247/247 [==============================] - 3s 13ms/step - loss: 8.8735e-05 - accuracy: 1.0000 - val_loss: 1.1719 - val_accuracy: 0.8295\n",
            "Epoch 45/50\n",
            "247/247 [==============================] - 3s 14ms/step - loss: 7.5724e-05 - accuracy: 1.0000 - val_loss: 1.1857 - val_accuracy: 0.8270\n",
            "Epoch 46/50\n",
            "247/247 [==============================] - 3s 13ms/step - loss: 6.4935e-05 - accuracy: 1.0000 - val_loss: 1.1996 - val_accuracy: 0.8270\n",
            "Epoch 47/50\n",
            "247/247 [==============================] - 3s 13ms/step - loss: 5.5536e-05 - accuracy: 1.0000 - val_loss: 1.2135 - val_accuracy: 0.8285\n",
            "Epoch 48/50\n",
            "247/247 [==============================] - 3s 13ms/step - loss: 4.8002e-05 - accuracy: 1.0000 - val_loss: 1.2284 - val_accuracy: 0.8285\n",
            "Epoch 49/50\n",
            "247/247 [==============================] - 3s 13ms/step - loss: 4.1469e-05 - accuracy: 1.0000 - val_loss: 1.2413 - val_accuracy: 0.8280\n",
            "Epoch 50/50\n",
            "247/247 [==============================] - 3s 13ms/step - loss: 3.5683e-05 - accuracy: 1.0000 - val_loss: 1.2539 - val_accuracy: 0.8290\n"
          ]
        }
      ],
      "source": [
        "net= model.fit(X_train, y_train, epochs=50, validation_data=(X_test, y_test), shuffle= True, callbacks= [model_checkpoint_callback], class_weight=class_weights)"
      ]
    },
    {
      "cell_type": "code",
      "execution_count": 148,
      "metadata": {
        "colab": {
          "base_uri": "https://localhost:8080/"
        },
        "id": "495czj2Edgs3",
        "outputId": "1d856ad0-f333-4575-a128-dbba51836010"
      },
      "outputs": [
        {
          "output_type": "stream",
          "name": "stdout",
          "text": [
            "dict_keys(['loss', 'accuracy', 'val_loss', 'val_accuracy'])\n"
          ]
        }
      ],
      "source": [
        "print(net.history.keys())"
      ]
    },
    {
      "cell_type": "code",
      "execution_count": 162,
      "metadata": {
        "colab": {
          "base_uri": "https://localhost:8080/",
          "height": 279
        },
        "id": "3wIrTC9RdHmc",
        "outputId": "fe9b1e48-c295-489f-a120-121f9e31b218"
      },
      "outputs": [
        {
          "output_type": "display_data",
          "data": {
            "text/plain": [
              "<Figure size 432x288 with 1 Axes>"
            ],
            "image/png": "[encoded data removed]"
          },
          "metadata": {
            "needs_background": "light"
          }
        }
      ],
      "source": [
        "plt.plot(net.history['accuracy'])\n",
        "plt.plot(net.history['val_accuracy'])\n",
        "plt.ylabel('accuracy')\n",
        "plt.xlabel('epoch')\n",
        "plt.legend(['train', 'test'], loc='upper left')\n",
        "plt.grid(linestyle='--')\n",
        "plt.savefig(\"epochs.png\", format=\"png\", dpi= 1200)\n",
        "plt.show()"
      ]
    },
    {
      "cell_type": "code",
      "source": [
        "#####evaluate on X_test\n",
        "p= []\n",
        "for i in X_test:\n",
        "  X_test = np.reshape(i, (-1, 50, 157, 1))\n",
        "  pred= model.predict(X_test, verbose= 0)\n",
        "  p.append(pred)"
      ],
      "metadata": {
        "id": "mUJuoIHOnCmN"
      },
      "execution_count": 150,
      "outputs": []
    },
    {
      "cell_type": "code",
      "source": [
        "result= []\n",
        "for i in p:\n",
        "  arg= np.argmax(i)\n",
        "  result.append(arg)"
      ],
      "metadata": {
        "id": "wxDmOvJQC6NJ"
      },
      "execution_count": 151,
      "outputs": []
    },
    {
      "cell_type": "code",
      "source": [
        "from sklearn import metrics\n",
        "print(metrics.f1_score(result, y_test, average= 'macro'), metrics.accuracy_score(result, y_test))"
      ],
      "metadata": {
        "colab": {
          "base_uri": "https://localhost:8080/"
        },
        "id": "iHVNV1HpnZqN",
        "outputId": "d46e94c4-8c79-49c6-f12e-c96937c06899"
      },
      "execution_count": 152,
      "outputs": [
        {
          "output_type": "stream",
          "name": "stdout",
          "text": [
            "0.8460498562436314 0.8290208016235413\n"
          ]
        }
      ]
    },
    {
      "cell_type": "markdown",
      "metadata": {
        "id": "UISCxTmwk0NX"
      },
      "source": [
        "Test"
      ]
    },
    {
      "cell_type": "code",
      "execution_count": 153,
      "metadata": {
        "id": "MWOvBoG05Pm-"
      },
      "outputs": [],
      "source": [
        "#######features for evalution set\n",
        "lis_test= []\n",
        "Id= []\n",
        "for i in pathtest:\n",
        "  audio_id= i.split('/')[-1].split('.')[0]\n",
        "  id= list(df['Id'][df['audio_name'] == audio_id])[0]\n",
        "  feature= feature_extract(i)\n",
        "  lis_test.append(feature)\n",
        "  Id.append(id)"
      ]
    },
    {
      "cell_type": "code",
      "execution_count": 154,
      "metadata": {
        "id": "qtc7lRFxfXqw"
      },
      "outputs": [],
      "source": [
        "p= []\n",
        "for i in lis_test:\n",
        "  X_test = np.reshape(i, (-1, 50, 157, 1))\n",
        "  pred= model.predict(X_test, verbose= 0)\n",
        "  p.append(pred)"
      ]
    },
    {
      "cell_type": "code",
      "execution_count": 155,
      "metadata": {
        "id": "YTDity4ejojj"
      },
      "outputs": [],
      "source": [
        "result= []\n",
        "for i in p:\n",
        "  arg= np.argmax(i)\n",
        "  result.append(arg)"
      ]
    },
    {
      "cell_type": "code",
      "execution_count": 156,
      "metadata": {
        "id": "den9Fpn6lEB9"
      },
      "outputs": [],
      "source": [
        "predict= pd.DataFrame(encoder.inverse_transform(list(result)), columns= {'Predicted'})"
      ]
    },
    {
      "cell_type": "code",
      "source": [
        "Id= pd.DataFrame(Id, columns= {'Id'})"
      ],
      "metadata": {
        "id": "EsNoDPuXy8cc"
      },
      "execution_count": 157,
      "outputs": []
    },
    {
      "cell_type": "code",
      "source": [
        "res= pd.concat([Id, predict], axis= 1)\n",
        "res.shape"
      ],
      "metadata": {
        "colab": {
          "base_uri": "https://localhost:8080/"
        },
        "id": "YBP78ikNyrEr",
        "outputId": "53d243da-ca2f-4434-fa74-9c50b4eec8ab"
      },
      "execution_count": 158,
      "outputs": [
        {
          "output_type": "execute_result",
          "data": {
            "text/plain": [
              "(1455, 2)"
            ]
          },
          "metadata": {},
          "execution_count": 158
        }
      ]
    },
    {
      "cell_type": "code",
      "source": [
        "res= res.sort_values(by=['Id'])"
      ],
      "metadata": {
        "id": "xF_U2MIqzjOt"
      },
      "execution_count": 159,
      "outputs": []
    },
    {
      "cell_type": "code",
      "execution_count": 160,
      "metadata": {
        "id": "8c6aqwaop18x"
      },
      "outputs": [],
      "source": [
        "res.to_csv('/content/drive/MyDrive/cnn_mfcc_final.csv')"
      ]
    },
    {
      "cell_type": "code",
      "execution_count": null,
      "metadata": {
        "id": "gq78OtVkQezy"
      },
      "outputs": [],
      "source": []
    }
  ],
  "metadata": {
    "accelerator": "GPU",
    "colab": {
      "machine_shape": "hm",
      "provenance": []
    },
    "gpuClass": "standard",
    "kernelspec": {
      "display_name": "Python 3",
      "name": "python3"
    },
    "language_info": {
      "name": "python"
    }
  },
  "nbformat": 4,
  "nbformat_minor": 0
}