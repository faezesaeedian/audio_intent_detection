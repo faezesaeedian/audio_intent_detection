{
  "nbformat": 4,
  "nbformat_minor": 0,
  "metadata": {
    "colab": {
      "provenance": []
    },
    "kernelspec": {
      "name": "python3",
      "display_name": "Python 3"
    },
    "language_info": {
      "name": "python"
    }
  },
  "cells": [
    {
      "cell_type": "code",
      "source": [
        "!pip install pydub"
      ],
      "metadata": {
        "colab": {
          "base_uri": "https://localhost:8080/"
        },
        "id": "s0T185jY9Pjr",
        "outputId": "4b380e5d-9f55-4dad-bb33-442ab67d448a"
      },
      "execution_count": 4,
      "outputs": [
        {
          "output_type": "stream",
          "name": "stdout",
          "text": [
            "Looking in indexes: https://pypi.org/simple, https://us-python.pkg.dev/colab-wheels/public/simple/\n",
            "Collecting pydub\n",
            "  Downloading pydub-0.25.1-py2.py3-none-any.whl (32 kB)\n",
            "Installing collected packages: pydub\n",
            "Successfully installed pydub-0.25.1\n"
          ]
        }
      ]
    },
    {
      "cell_type": "code",
      "source": [
        "!pip install mutagen"
      ],
      "metadata": {
        "colab": {
          "base_uri": "https://localhost:8080/"
        },
        "id": "B1ljvnJ_jCxW",
        "outputId": "eb89d261-17dc-4dca-e080-dc5b311e57bd"
      },
      "execution_count": 5,
      "outputs": [
        {
          "output_type": "stream",
          "name": "stdout",
          "text": [
            "Looking in indexes: https://pypi.org/simple, https://us-python.pkg.dev/colab-wheels/public/simple/\n",
            "Collecting mutagen\n",
            "  Downloading mutagen-1.46.0-py3-none-any.whl (193 kB)\n",
            "\u001b[2K     \u001b[90m━━━━━━━━━━━━━━━━━━━━━━━━━━━━━━━━━━━━━━━\u001b[0m \u001b[32m193.6/193.6 KB\u001b[0m \u001b[31m5.5 MB/s\u001b[0m eta \u001b[36m0:00:00\u001b[0m\n",
            "\u001b[?25hInstalling collected packages: mutagen\n",
            "Successfully installed mutagen-1.46.0\n"
          ]
        }
      ]
    },
    {
      "cell_type": "code",
      "source": [
        "from google.colab import drive\n",
        "drive.mount('/content/drive')"
      ],
      "metadata": {
        "colab": {
          "base_uri": "https://localhost:8080/"
        },
        "id": "O1I90EUSXc6U",
        "outputId": "5ad1e1e3-a8e1-4fab-ed88-e6c5d69b7425"
      },
      "execution_count": 6,
      "outputs": [
        {
          "output_type": "stream",
          "name": "stdout",
          "text": [
            "Drive already mounted at /content/drive; to attempt to forcibly remount, call drive.mount(\"/content/drive\", force_remount=True).\n"
          ]
        }
      ]
    },
    {
      "cell_type": "code",
      "source": [
        "import pandas as pd\n",
        "import numpy as np\n",
        "import glob\n",
        "import mutagen\n",
        "from pydub import AudioSegment\n",
        "from matplotlib import pyplot as plt\n",
        "from mutagen.wave import WAVE\n",
        "import sys\n",
        "import librosa\n",
        "from scipy.io import wavfile\n",
        "import librosa.display\n",
        "import os"
      ],
      "metadata": {
        "id": "-SZHI0yYiTRm"
      },
      "execution_count": 25,
      "outputs": []
    },
    {
      "cell_type": "code",
      "execution_count": 8,
      "metadata": {
        "id": "M7iP1BYvrd56"
      },
      "outputs": [],
      "source": [
        "import zipfile\n",
        "zip_ref = zipfile.ZipFile('/content/drive/MyDrive/dsl_data.zip', 'r') \n",
        "zip_ref.extractall('/tmp')\n",
        "zip_ref.close()"
      ]
    },
    {
      "cell_type": "code",
      "source": [
        "import pandas as pd\n",
        "df= pd.read_csv('/tmp/development.csv')\n",
        "df.shape"
      ],
      "metadata": {
        "colab": {
          "base_uri": "https://localhost:8080/"
        },
        "id": "CJZ4bpdQrzfd",
        "outputId": "b2b476ef-4081-4bf5-a244-6355aa2f2d80"
      },
      "execution_count": 9,
      "outputs": [
        {
          "output_type": "execute_result",
          "data": {
            "text/plain": [
              "(9854, 10)"
            ]
          },
          "metadata": {},
          "execution_count": 9
        }
      ]
    },
    {
      "cell_type": "code",
      "source": [
        "df['audio_name'] = df['path'].apply(lambda x: x.split('/')[-1].split('.')[0])\n",
        "df.drop('path', inplace=True, axis=1)\n",
        "df.shape"
      ],
      "metadata": {
        "colab": {
          "base_uri": "https://localhost:8080/"
        },
        "id": "drx6SG6131jj",
        "outputId": "5f7d057e-c13d-48b6-956c-4d93e4e94716"
      },
      "execution_count": 10,
      "outputs": [
        {
          "output_type": "execute_result",
          "data": {
            "text/plain": [
              "(9854, 10)"
            ]
          },
          "metadata": {},
          "execution_count": 10
        }
      ]
    },
    {
      "cell_type": "code",
      "execution_count": 11,
      "metadata": {
        "id": "i9XE0jUdRFIt"
      },
      "outputs": [],
      "source": [
        "def merge(a, b):\n",
        "  c= str(a) + str(b)\n",
        "  return c\n",
        "df['label']= df.apply(lambda row : merge(row['action'], row['object']), axis = 1)"
      ]
    },
    {
      "cell_type": "code",
      "execution_count": 12,
      "metadata": {
        "colab": {
          "base_uri": "https://localhost:8080/",
          "height": 361
        },
        "id": "R4v8ta_GRgws",
        "outputId": "61f9e0f4-59f9-4951-9ec2-515294214cf1"
      },
      "outputs": [
        {
          "output_type": "display_data",
          "data": {
            "text/plain": [
              "<Figure size 720x360 with 1 Axes>"
            ],
            "image/png": "[encoded data removed]"
          },
          "metadata": {
            "needs_background": "light"
          }
        }
      ],
      "source": [
        "xx= df['label'].value_counts().reset_index()\n",
        "x= xx.loc[:]['index']\n",
        "y= xx.loc[:]['label']\n",
        "  \n",
        "fig = plt.figure(figsize = (10, 5))\n",
        "plt.xticks(rotation='vertical')\n",
        "# plt.bar(x, y)\n",
        "plt.bar(x, y, color=plt.cm.Blues(np.linspace(1., 0.5, len(x))))\n",
        "plt.gcf().autofmt_xdate()\n",
        "\n",
        "plt.xlabel(\"label Type\")\n",
        "plt.ylabel(\"Count\")\n",
        "plt.grid(linestyle='--', axis= 'y')\n",
        "# plt.title(\"Students enrolled in different courses\")\n",
        "plt.savefig(\"myImage.png\", format=\"png\", dpi= 1200)\n",
        "plt.show()"
      ]
    },
    {
      "cell_type": "code",
      "source": [
        "import pandas as pd\n",
        "dev= pd.read_csv('/tmp/development.csv')\n",
        "dev.shape"
      ],
      "metadata": {
        "colab": {
          "base_uri": "https://localhost:8080/"
        },
        "outputId": "8bb8a6d4-fc85-4dd1-dcfa-dd9377a4d6bd",
        "id": "P64bdbmLI4vr"
      },
      "execution_count": 13,
      "outputs": [
        {
          "output_type": "execute_result",
          "data": {
            "text/plain": [
              "(9854, 10)"
            ]
          },
          "metadata": {},
          "execution_count": 13
        }
      ]
    },
    {
      "cell_type": "code",
      "source": [
        "import pandas as pd\n",
        "val= pd.read_csv('/tmp/evaluation.csv')\n",
        "val.shape"
      ],
      "metadata": {
        "colab": {
          "base_uri": "https://localhost:8080/"
        },
        "id": "lFjQsEdyhwQM",
        "outputId": "42fd8dc5-40b9-4667-a538-0af72ae10531"
      },
      "execution_count": 16,
      "outputs": [
        {
          "output_type": "execute_result",
          "data": {
            "text/plain": [
              "(1455, 8)"
            ]
          },
          "metadata": {},
          "execution_count": 16
        }
      ]
    },
    {
      "cell_type": "code",
      "source": [
        "df= pd.concat([dev, val], axis= 0)\n",
        "df.shape"
      ],
      "metadata": {
        "colab": {
          "base_uri": "https://localhost:8080/"
        },
        "id": "8K7G1_Ypb4G2",
        "outputId": "38cd8d27-b791-413e-e314-882e44799afb"
      },
      "execution_count": 17,
      "outputs": [
        {
          "output_type": "execute_result",
          "data": {
            "text/plain": [
              "(11309, 10)"
            ]
          },
          "metadata": {},
          "execution_count": 17
        }
      ]
    },
    {
      "cell_type": "code",
      "source": [
        "df['audio_name'] = df['path'].apply(lambda x: x.split('/')[-1].split('.')[0])\n",
        "df.drop('path', inplace=True, axis=1)\n",
        "df.shape"
      ],
      "metadata": {
        "colab": {
          "base_uri": "https://localhost:8080/"
        },
        "outputId": "de72a5d4-a4d7-4cd4-b8a6-00c24bd9ba4d",
        "id": "BNMPcNjSJE1P"
      },
      "execution_count": 18,
      "outputs": [
        {
          "output_type": "execute_result",
          "data": {
            "text/plain": [
              "(11309, 10)"
            ]
          },
          "metadata": {},
          "execution_count": 18
        }
      ]
    },
    {
      "cell_type": "code",
      "execution_count": 19,
      "metadata": {
        "id": "4OIN673HJE1P"
      },
      "outputs": [],
      "source": [
        "def merge(a, b):\n",
        "  c= str(a) + str(b)\n",
        "  return c\n",
        "df['label']= df.apply(lambda row : merge(row['action'], row['object']), axis = 1)"
      ]
    },
    {
      "cell_type": "code",
      "source": [
        "import glob\n",
        "pathtrain =[]\n",
        "pathtest =[]\n",
        "path_nonzero = []\n",
        "for file in glob.glob('/tmp/audio/speakers/*'):\n",
        "  for i in glob.glob(file + '/*.wav'):\n",
        "    id= i.split('/')[-1].split('.')[0]\n",
        "    if (list(df['action'][df['audio_name']== id].isna())[0]): \n",
        "      pathtest.append(i)\n",
        "    else:\n",
        "      pathtrain.append(i)\n",
        "\n",
        "print(len(pathtrain),len(pathtest))"
      ],
      "metadata": {
        "colab": {
          "base_uri": "https://localhost:8080/"
        },
        "id": "y65qljtUbgQH",
        "outputId": "ebb1e853-7bde-4420-b34a-e088ba7af293"
      },
      "execution_count": 20,
      "outputs": [
        {
          "output_type": "stream",
          "name": "stdout",
          "text": [
            "9854 1455\n"
          ]
        }
      ]
    },
    {
      "cell_type": "code",
      "execution_count": 21,
      "metadata": {
        "id": "OgJJbL9jTivq"
      },
      "outputs": [],
      "source": [
        "###### length\n",
        "dic= {}\n",
        "for i in pathtrain:\n",
        "      id= i.split('/')[-1].split('.')[0]\n",
        "      audio = WAVE(i)\n",
        "      length = int(audio.info.length)\n",
        "      dic[id]= length\n",
        "data= pd.DataFrame(dic.values(), index= dic.keys(), columns= {'length'})\n",
        "data['audio_name']= dic.keys()"
      ]
    },
    {
      "cell_type": "code",
      "execution_count": 22,
      "metadata": {
        "colab": {
          "base_uri": "https://localhost:8080/"
        },
        "id": "Lh2W5z0f51rh",
        "outputId": "7e547b0c-16ee-4575-d642-0404096eb3b8"
      },
      "outputs": [
        {
          "output_type": "execute_result",
          "data": {
            "text/plain": [
              "(9854, 12)"
            ]
          },
          "metadata": {},
          "execution_count": 22
        }
      ],
      "source": [
        "df= pd.merge(df, data, on= ['audio_name'])\n",
        "df.shape"
      ]
    },
    {
      "cell_type": "code",
      "execution_count": 23,
      "metadata": {
        "colab": {
          "base_uri": "https://localhost:8080/",
          "height": 335
        },
        "id": "bvw7h_IRU7es",
        "outputId": "84205bdb-f4d3-443a-8d4b-8856ebb2b5d6"
      },
      "outputs": [
        {
          "output_type": "display_data",
          "data": {
            "text/plain": [
              "<Figure size 720x360 with 1 Axes>"
            ],
            "image/png": "[encoded data removed]"
          },
          "metadata": {
            "needs_background": "light"
          }
        }
      ],
      "source": [
        "#####duration of audios\n",
        "xx= df['length'].value_counts().reset_index()\n",
        "x= xx.loc[:]['index']\n",
        "y= xx.loc[:]['length']\n",
        "  \n",
        "fig = plt.figure(figsize = (10, 5))\n",
        "plt.bar(x, y, color=plt.cm.Blues\n",
        "        (np.linspace(1., 0.5, len(x))))\n",
        " \n",
        "plt.xlabel(\"Length Of Audio(s)\")\n",
        "plt.ylabel(\"Count\")\n",
        "plt.grid(linestyle='--', axis= 'y')\n",
        "plt.savefig(\"myImage.png\", format=\"png\", dpi= 1200)\n",
        "plt.show()"
      ]
    },
    {
      "cell_type": "code",
      "source": [
        "###### check sr of all audios\n",
        "sr= []\n",
        "for i in pathtrain:\n",
        "  a, b = librosa.load(i)\n",
        "  s= b / 1000\n",
        "  sr.append(s)"
      ],
      "metadata": {
        "id": "JXV_WeQWD_8G"
      },
      "execution_count": 26,
      "outputs": []
    },
    {
      "cell_type": "code",
      "source": [
        "len(sr)"
      ],
      "metadata": {
        "colab": {
          "base_uri": "https://localhost:8080/"
        },
        "id": "SbSpFdsoEGfy",
        "outputId": "a5111e35-697b-4eb6-c71d-5a23d7116f55"
      },
      "execution_count": 27,
      "outputs": [
        {
          "output_type": "execute_result",
          "data": {
            "text/plain": [
              "9854"
            ]
          },
          "metadata": {},
          "execution_count": 27
        }
      ]
    },
    {
      "cell_type": "code",
      "source": [
        "import numpy as np\n",
        "print(np.min(sr), np.max(sr), np.mean(sr))"
      ],
      "metadata": {
        "colab": {
          "base_uri": "https://localhost:8080/"
        },
        "id": "dTWpgC0cEKI5",
        "outputId": "14600b43-b800-4336-f97d-a7d82da06abf"
      },
      "execution_count": 28,
      "outputs": [
        {
          "output_type": "stream",
          "name": "stdout",
          "text": [
            "22.05 22.05 22.050000000000008\n"
          ]
        }
      ]
    },
    {
      "cell_type": "code",
      "source": [
        "set(sr)"
      ],
      "metadata": {
        "colab": {
          "base_uri": "https://localhost:8080/"
        },
        "id": "XJRgWFTU9HOX",
        "outputId": "650a13a3-6cd4-4637-a6b5-30313cd056d5"
      },
      "execution_count": 29,
      "outputs": [
        {
          "output_type": "execute_result",
          "data": {
            "text/plain": [
              "{22.05}"
            ]
          },
          "metadata": {},
          "execution_count": 29
        }
      ]
    },
    {
      "cell_type": "code",
      "source": [
        "#### an example of audios\n",
        "path= '/tmp/audio/speakers/W7LeKXje7QhZlLKe/3c71a140-4554-11e9-aa52-bf2189a03a60.wav'"
      ],
      "metadata": {
        "id": "XCrslDJHYSky"
      },
      "execution_count": 89,
      "outputs": []
    },
    {
      "cell_type": "code",
      "source": [
        "#####visualize an random audio in time domain\n",
        "data, sr = librosa.load(path)\n",
        "\n",
        "duration = len(data)/sr\n",
        "time = np.arange(0, duration,1/sr) \n",
        "fig = plt.figure(figsize = (8, 3))\n",
        "plt.plot(time,data)\n",
        "plt.xlabel('Time [s]')\n",
        "plt.ylabel('Amplitude')\n",
        "plt.grid()\n",
        "plt.savefig('length.png')\n",
        "plt.savefig(\"time.png\", format=\"png\", dpi= 1200)\n",
        "plt.show()"
      ],
      "metadata": {
        "colab": {
          "base_uri": "https://localhost:8080/",
          "height": 225
        },
        "id": "RfPQSmpDQsTg",
        "outputId": "c1528195-8edd-475f-bcee-79b757c4d562"
      },
      "execution_count": 92,
      "outputs": [
        {
          "output_type": "display_data",
          "data": {
            "text/plain": [
              "<Figure size 576x216 with 1 Axes>"
            ],
            "image/png": "[encoded data removed]"
          },
          "metadata": {
            "needs_background": "light"
          }
        }
      ]
    },
    {
      "cell_type": "code",
      "source": [
        "#####visualize an random audio in frequency domain\n",
        "samplerate, audio = wavfile.read(path)\n",
        "\n",
        "fft = np.fft.fft(audio)\n",
        "magnitude = np.abs(fft)\n",
        "magnitude_dB = 20 * np.log10(magnitude)\n",
        "frequencies = np.abs(np.fft.fftfreq(audio.size, 1/samplerate))\n",
        "fig = plt.figure(figsize = (8, 3))\n",
        "plt.plot(frequencies, magnitude_dB)\n",
        "plt.xlabel('Frequency (Hz)')\n",
        "plt.ylabel('Magnitude (dB)')\n",
        "plt.grid(linestyle='--')\n",
        "plt.savefig(\"frequency.png\", format=\"png\", dpi= 1200)\n",
        "plt.show()"
      ],
      "metadata": {
        "colab": {
          "base_uri": "https://localhost:8080/",
          "height": 225
        },
        "id": "i6SOSLmtXFP5",
        "outputId": "a0bc7b31-863c-4786-c152-75d1c11870d8"
      },
      "execution_count": 94,
      "outputs": [
        {
          "output_type": "display_data",
          "data": {
            "text/plain": [
              "<Figure size 576x216 with 1 Axes>"
            ],
            "image/png": "[encoded data removed]"
          },
          "metadata": {
            "needs_background": "light"
          }
        }
      ]
    },
    {
      "cell_type": "code",
      "source": [
        "######MFCC for a random audio\n",
        "y, sr = librosa.load(path, sr= 16000, offset=0.0, duration=4.0)\n",
        "current_length = len(y)\n",
        "padding = int(4 * sr) - current_length\n",
        "y_pad = np.pad(y, (0, padding), mode='constant')\n",
        "mfccs = librosa.feature.mfcc(y= y_pad, sr= sr, n_fft= 2048, hop_length= 1024, n_mfcc= 40)\n",
        "\n",
        "librosa.display.specshow(mfccs, sr=sr, x_axis='time')\n",
        "plt.colorbar()\n",
        "plt.title('MFCCs')\n",
        "plt.tight_layout()\n",
        "plt.savefig(\"mfcc.png\", format=\"png\", dpi= 1200)\n",
        "plt.show()"
      ],
      "metadata": {
        "colab": {
          "base_uri": "https://localhost:8080/",
          "height": 297
        },
        "id": "OWZ_qfvDQsVZ",
        "outputId": "1feba338-ff9b-4b2d-a638-0589cc46c3ef"
      },
      "execution_count": 105,
      "outputs": [
        {
          "output_type": "display_data",
          "data": {
            "text/plain": [
              "<Figure size 432x288 with 2 Axes>"
            ],
            "image/png": "[encoded data removed]"
          },
          "metadata": {
            "needs_background": "light"
          }
        }
      ]
    },
    {
      "cell_type": "code",
      "source": [
        "######number of MFCC\n",
        "x = [40, 50, 60, 70, 80, 90]\n",
        "f1 = [48.6, 48.3, 47.7, 48.3, 49.7, 49.3]\n",
        "acc= [50.8, 50.9, 48.9, 49.9, 52.4, 49.4]\n",
        "\n",
        "plt.plot(x, f1)\n",
        "plt.plot(x, acc)\n",
        "plt.ylabel('performance')\n",
        "plt.xlabel('n_MFCC(number of blocks)')\n",
        "plt.legend(['f1_score', 'accuracy'], loc='upper left')\n",
        "plt.grid(linestyle='--')\n",
        "plt.savefig(\"n_MFCC.png\", format=\"png\", dpi= 1200)\n",
        "plt.show()"
      ],
      "metadata": {
        "colab": {
          "base_uri": "https://localhost:8080/",
          "height": 280
        },
        "id": "NVG3IOfbQsXR",
        "outputId": "594fc9a4-759d-46c5-fee8-cd0ab15569a8"
      },
      "execution_count": 35,
      "outputs": [
        {
          "output_type": "display_data",
          "data": {
            "text/plain": [
              "<Figure size 432x288 with 1 Axes>"
            ],
            "image/png": "[encoded data removed]"
          },
          "metadata": {
            "needs_background": "light"
          }
        }
      ]
    },
    {
      "cell_type": "code",
      "source": [],
      "metadata": {
        "id": "OiWAO9A3Qsbc"
      },
      "execution_count": null,
      "outputs": []
    }
  ]
}