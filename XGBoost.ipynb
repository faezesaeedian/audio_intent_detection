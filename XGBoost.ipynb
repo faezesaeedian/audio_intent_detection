{
  "cells": [
    {
      "cell_type": "code",
      "execution_count": null,
      "metadata": {
        "colab": {
          "base_uri": "https://localhost:8080/"
        },
        "id": "FP4lyev5PHiK",
        "outputId": "30548dff-06a3-45b9-e4b4-1e69a5ce052f"
      },
      "outputs": [
        {
          "output_type": "stream",
          "name": "stdout",
          "text": [
            "Looking in indexes: https://pypi.org/simple, https://us-python.pkg.dev/colab-wheels/public/simple/\n",
            "Collecting pydub\n",
            "  Downloading pydub-0.25.1-py2.py3-none-any.whl (32 kB)\n",
            "Installing collected packages: pydub\n",
            "Successfully installed pydub-0.25.1\n"
          ]
        }
      ],
      "source": [
        "!pip install pydub"
      ]
    },
    {
      "cell_type": "code",
      "execution_count": null,
      "metadata": {
        "id": "fphjQd79PKLV"
      },
      "outputs": [],
      "source": [
        "!pip install category_encoders"
      ]
    },
    {
      "cell_type": "code",
      "execution_count": null,
      "metadata": {
        "colab": {
          "base_uri": "https://localhost:8080/"
        },
        "id": "W6aVc4A-PMXB",
        "outputId": "f9de934b-3e3a-4224-b91a-734b47bb05df"
      },
      "outputs": [
        {
          "output_type": "stream",
          "name": "stdout",
          "text": [
            "Looking in indexes: https://pypi.org/simple, https://us-python.pkg.dev/colab-wheels/public/simple/\n",
            "Requirement already satisfied: mutagen in /usr/local/lib/python3.8/dist-packages (1.46.0)\n"
          ]
        }
      ],
      "source": [
        "!pip install mutagen"
      ]
    },
    {
      "cell_type": "code",
      "execution_count": null,
      "metadata": {
        "id": "vd3-ZkbNPPJQ"
      },
      "outputs": [],
      "source": [
        "import pandas as pd\n",
        "import numpy as np\n",
        "import glob\n",
        "import mutagen\n",
        "from pydub import AudioSegment\n",
        "from matplotlib import pyplot as plt\n",
        "from mutagen.wave import WAVE\n",
        "import sys\n",
        "import librosa\n",
        "import os"
      ]
    },
    {
      "cell_type": "code",
      "execution_count": null,
      "metadata": {
        "id": "8xyichEYPSe3"
      },
      "outputs": [],
      "source": [
        "import zipfile\n",
        "zip_ref = zipfile.ZipFile('/content/drive/MyDrive/dsl_data.zip', 'r') \n",
        "zip_ref.extractall('/tmp')\n",
        "zip_ref.close()"
      ]
    },
    {
      "cell_type": "code",
      "execution_count": null,
      "metadata": {
        "colab": {
          "base_uri": "https://localhost:8080/"
        },
        "id": "EXgeounXPWqx",
        "outputId": "1002b2b7-7713-4ce6-ccc1-bec0a3deed4c"
      },
      "outputs": [
        {
          "output_type": "execute_result",
          "data": {
            "text/plain": [
              "(9854, 10)"
            ]
          },
          "metadata": {},
          "execution_count": 7
        }
      ],
      "source": [
        "import pandas as pd\n",
        "dev= pd.read_csv('/tmp/development.csv')\n",
        "dev.shape"
      ]
    },
    {
      "cell_type": "code",
      "execution_count": null,
      "metadata": {
        "colab": {
          "base_uri": "https://localhost:8080/"
        },
        "id": "BPY9VT6XPZBm",
        "outputId": "01a901a7-e20b-4220-a726-327d578ecf56"
      },
      "outputs": [
        {
          "output_type": "execute_result",
          "data": {
            "text/plain": [
              "(1455, 8)"
            ]
          },
          "metadata": {},
          "execution_count": 8
        }
      ],
      "source": [
        "import pandas as pd\n",
        "val= pd.read_csv('/tmp/evaluation.csv')\n",
        "val.shape"
      ]
    },
    {
      "cell_type": "code",
      "execution_count": null,
      "metadata": {
        "colab": {
          "base_uri": "https://localhost:8080/"
        },
        "id": "wjq93a7FPbpJ",
        "outputId": "df4f2759-bbc8-4f48-fa77-5ad440d8bee8"
      },
      "outputs": [
        {
          "output_type": "execute_result",
          "data": {
            "text/plain": [
              "(11309, 10)"
            ]
          },
          "metadata": {},
          "execution_count": 9
        }
      ],
      "source": [
        "df= pd.concat([dev, val], axis= 0)\n",
        "df.shape"
      ]
    },
    {
      "cell_type": "code",
      "execution_count": null,
      "metadata": {
        "colab": {
          "base_uri": "https://localhost:8080/"
        },
        "id": "7qDhhLMzPf5d",
        "outputId": "77e9107d-ac3f-4d1a-f4b5-323c627b83e8"
      },
      "outputs": [
        {
          "output_type": "execute_result",
          "data": {
            "text/plain": [
              "(11309, 10)"
            ]
          },
          "metadata": {},
          "execution_count": 10
        }
      ],
      "source": [
        "df['audio_name'] = df['path'].apply(lambda x: x.split('/')[-1].split('.')[0])\n",
        "df.drop('path', inplace=True, axis=1)\n",
        "df.shape"
      ]
    },
    {
      "cell_type": "code",
      "execution_count": null,
      "metadata": {
        "id": "muwy4GUJPkKs"
      },
      "outputs": [],
      "source": [
        "#####encode numerical columns\n",
        "from sklearn.preprocessing import OneHotEncoder\n",
        "encoder = OneHotEncoder()\n",
        "columns_to_encode = ['gender', 'First Language spoken', 'Current language used for work/school']\n",
        "encoded_df = pd.DataFrame(encoder.fit_transform(df[columns_to_encode]).toarray(), columns= encoder.get_feature_names_out(columns_to_encode))"
      ]
    },
    {
      "cell_type": "code",
      "execution_count": null,
      "metadata": {
        "id": "6p8PWwXKPofz"
      },
      "outputs": [],
      "source": [
        "df1= df.join(encoded_df)\n",
        "df2= df1.drop(['gender', 'First Language spoken', 'Current language used for work/school'], axis= 1)"
      ]
    },
    {
      "cell_type": "code",
      "execution_count": null,
      "metadata": {
        "id": "5yDQrBRKPtEP"
      },
      "outputs": [],
      "source": [
        "#####encode ordinal columns\n",
        "from category_encoders import OrdinalEncoder \n",
        "maplist = [{'col': 'Self-reported fluency level ', 'mapping': {'native': 3, 'advanced': 2, 'intermediate': 1, 'basic': 0}},\n",
        "           {'col': 'ageRange', 'mapping': {'65+': 2, '41-65': 1, '22-40': 0}}]\n",
        "oe = OrdinalEncoder(mapping= maplist)\n",
        "df3= oe.fit_transform(df2)"
      ]
    },
    {
      "cell_type": "code",
      "execution_count": null,
      "metadata": {
        "id": "JYroN8uXPwGQ"
      },
      "outputs": [],
      "source": [
        "df3.to_csv('/content/drive/MyDrive/dataset_dsl_encode.csv')"
      ]
    },
    {
      "cell_type": "markdown",
      "metadata": {
        "id": "dQyPT5E0P2vx"
      },
      "source": [
        "Features"
      ]
    },
    {
      "cell_type": "code",
      "execution_count": null,
      "metadata": {
        "colab": {
          "base_uri": "https://localhost:8080/"
        },
        "id": "M2W1ehGfP1Gw",
        "outputId": "0c916dca-54e2-4791-963b-d73995591e97"
      },
      "outputs": [
        {
          "output_type": "stream",
          "name": "stdout",
          "text": [
            "9854 1455\n"
          ]
        }
      ],
      "source": [
        "import glob\n",
        "pathtrain =[]\n",
        "pathtest =[]\n",
        "path_nonzero = []\n",
        "for file in glob.glob('/tmp/audio/speakers/*'):\n",
        "  for i in glob.glob(file + '/*.wav'):\n",
        "    id= i.split('/')[-1].split('.')[0]\n",
        "    if (list(df3['action'][df3['audio_name']== id].isna())[0]): \n",
        "      pathtest.append(i)\n",
        "    else:\n",
        "      pathtrain.append(i)\n",
        "\n",
        "print(len(pathtrain),len(pathtest))\n"
      ]
    },
    {
      "cell_type": "code",
      "execution_count": null,
      "metadata": {
        "id": "CTxWJiRxP8wY"
      },
      "outputs": [],
      "source": [
        "def sta(data):\n",
        "  dat_min = np.min(data, axis= 1) \n",
        "  dat_max = np.max(data, axis= 1)\n",
        "  dat_std = np.std(data, axis= 1)\n",
        "  dat_median = np.median(data ,axis= 1)\n",
        "  dat_mean = np.mean(data, axis= 1)\n",
        "  dat_qrl1 = np.percentile(data, 25 , axis= 1) \n",
        "  dat_qrl3 = np.percentile(data, 75 , axis= 1)\n",
        "  dat_lower_q = np.quantile(data, 0.25, interpolation=\"lower\" , axis= 1) \n",
        "  dat_higher_q = np.quantile(data, 0.75, interpolation=\"higher\" , axis= 1) \n",
        "  return np.concatenate([dat_min,dat_max, dat_mean, dat_std, dat_median, dat_qrl1,dat_qrl3 ,dat_lower_q,dat_higher_q ])"
      ]
    },
    {
      "cell_type": "code",
      "execution_count": null,
      "metadata": {
        "id": "-qzNaGStQAYO"
      },
      "outputs": [],
      "source": [
        "def feature_extract(path):\n",
        "    y, sr = librosa.load(path, sr=16000 , offset=0.0, duration=5.0)\n",
        "    ###padding to 5 seconds\n",
        "    current_length = len(y)\n",
        "    padding = int(5 * sr) - current_length\n",
        "    y_pad = np.pad(y, (0, padding), mode='constant')\n",
        "    ##### extracting featuers\n",
        "    mfcc = librosa.feature.mfcc(y= y_pad, sr=sr, n_fft=256, hop_length=128, n_mfcc= 80, fmax= 8000)\n",
        "    feature1= sta(mfcc)\n",
        "    all= np.concatenate([feature1])   \n",
        "    return all"
      ]
    },
    {
      "cell_type": "code",
      "execution_count": null,
      "metadata": {
        "id": "aGT7QEjTQDS5"
      },
      "outputs": [],
      "source": [
        "lis= []\n",
        "dic= {}\n",
        "for i in pathtrain:\n",
        "  id= i.split('/')[-1].split('.')[0]\n",
        "  feature= feature_extract(i)\n",
        "  lis.append(feature)\n",
        "  dic[id]= feature"
      ]
    },
    {
      "cell_type": "code",
      "execution_count": null,
      "metadata": {
        "colab": {
          "base_uri": "https://localhost:8080/"
        },
        "id": "zMRcCfswQF5c",
        "outputId": "e4760062-cb13-4bc3-a789-0ec6eddd3fb0"
      },
      "outputs": [
        {
          "output_type": "execute_result",
          "data": {
            "text/plain": [
              "(9854, 721)"
            ]
          },
          "metadata": {},
          "execution_count": 32
        }
      ],
      "source": [
        "data= pd.DataFrame(dic.values(), index= dic.keys())\n",
        "data['audio_name']= dic.keys()\n",
        "data.shape"
      ]
    },
    {
      "cell_type": "code",
      "execution_count": null,
      "metadata": {
        "colab": {
          "base_uri": "https://localhost:8080/"
        },
        "id": "5WvFoY6WQXD-",
        "outputId": "9c134264-b606-4dc4-be98-e9d1b10b3f7d"
      },
      "outputs": [
        {
          "output_type": "execute_result",
          "data": {
            "text/plain": [
              "(9854, 738)"
            ]
          },
          "metadata": {},
          "execution_count": 33
        }
      ],
      "source": [
        "train= pd.merge(df3, data, on= ['audio_name'])\n",
        "train.shape"
      ]
    },
    {
      "cell_type": "code",
      "execution_count": null,
      "metadata": {
        "colab": {
          "base_uri": "https://localhost:8080/"
        },
        "id": "rNoE3s46QYGf",
        "outputId": "780b62cf-4d2e-4e4e-8d03-4b4fee5face6"
      },
      "outputs": [
        {
          "output_type": "execute_result",
          "data": {
            "text/plain": [
              "(9854, 736)"
            ]
          },
          "metadata": {},
          "execution_count": 34
        }
      ],
      "source": [
        "train= train.drop(['audio_name', 'speakerId'], axis= 1)\n",
        "train.shape"
      ]
    },
    {
      "cell_type": "code",
      "execution_count": null,
      "metadata": {
        "colab": {
          "base_uri": "https://localhost:8080/"
        },
        "id": "X8PVDywEQk7o",
        "outputId": "12b72cde-14d4-461e-fb37-4e4a834af91d"
      },
      "outputs": [
        {
          "output_type": "execute_result",
          "data": {
            "text/plain": [
              "(9854, 735)"
            ]
          },
          "metadata": {},
          "execution_count": 35
        }
      ],
      "source": [
        "def merge(a, b):\n",
        "  c= str(a) + str(b)\n",
        "  return c\n",
        "train['label']= train.apply(lambda row : merge(row['action'], row['object']), axis = 1)\n",
        "train= train.drop(['action', 'object'], axis= 1)\n",
        "train.shape"
      ]
    },
    {
      "cell_type": "code",
      "execution_count": null,
      "metadata": {
        "colab": {
          "base_uri": "https://localhost:8080/"
        },
        "id": "wYS1bGQEQlnP",
        "outputId": "b59166c7-0505-4cf7-e226-0fecd446ab5a"
      },
      "outputs": [
        {
          "output_type": "execute_result",
          "data": {
            "text/plain": [
              "(9854, 735)"
            ]
          },
          "metadata": {},
          "execution_count": 36
        }
      ],
      "source": [
        "######target encoder\n",
        "from sklearn import preprocessing\n",
        "le = preprocessing.LabelEncoder()\n",
        "tar_label= pd.DataFrame(le.fit_transform(train['label']), columns= {'tar_label'})\n",
        "\n",
        "train = train.join(tar_label)\n",
        "train= train.drop(['label'], axis= 1)\n",
        "train.shape"
      ]
    },
    {
      "cell_type": "code",
      "execution_count": null,
      "metadata": {
        "id": "RusDRvpyQq9w"
      },
      "outputs": [],
      "source": [
        "X= train.drop(['tar_label'], axis= 1)\n",
        "y= train['tar_label']"
      ]
    },
    {
      "cell_type": "code",
      "execution_count": null,
      "metadata": {
        "colab": {
          "base_uri": "https://localhost:8080/"
        },
        "id": "eFCuXMMmQwqJ",
        "outputId": "afd00fb1-9900-4c11-ac0b-ad0b4e4d3982"
      },
      "outputs": [
        {
          "output_type": "stream",
          "name": "stdout",
          "text": [
            "(9854, 734) (9854,)\n"
          ]
        }
      ],
      "source": [
        "print(X.shape, y.shape)"
      ]
    },
    {
      "cell_type": "code",
      "execution_count": null,
      "metadata": {
        "id": "bqPairZRQ1hv"
      },
      "outputs": [],
      "source": [
        "from sklearn.model_selection import train_test_split\n",
        "x_train, x_test, y_train, y_test= train_test_split(X, y, test_size= 0.2)"
      ]
    },
    {
      "cell_type": "code",
      "execution_count": null,
      "metadata": {
        "id": "vuHL2EydQ3N5"
      },
      "outputs": [],
      "source": [
        "from sklearn.ensemble import RandomForestClassifier\n",
        "from sklearn.model_selection import train_test_split,StratifiedKFold, cross_val_predict, cross_val_score\n",
        "from sklearn.model_selection import GridSearchCV\n",
        "import xgboost as xgb\n",
        "from sklearn import metrics"
      ]
    },
    {
      "cell_type": "code",
      "execution_count": null,
      "metadata": {
        "id": "g6IJn9C-hCN3"
      },
      "outputs": [],
      "source": [
        "####grid search on XGB \n",
        "par = {'max_depth':[4, 5, 6],\n",
        "       'min_child_weight' : [2, 4, 6],\n",
        "       'min_samples_split':[2, 3, 4],\n",
        "       'sampling_method': ['uniform', 'gradient_based']}\n",
        "xgb= xgb.XGBClassifier(class_weight='balanced')\n",
        "xgb_cv= GridSearchCV(xgb, param_grid= par, cv=StratifiedKFold(n_splits=5))\n",
        "xgb_cv.fit(X,y)\n",
        "\n",
        "print(\"Best parameters found: \", xgb_cv.best_params_)"
      ]
    },
    {
      "cell_type": "code",
      "execution_count": null,
      "metadata": {
        "colab": {
          "base_uri": "https://localhost:8080/"
        },
        "id": "KLyM6JqDQ56l",
        "outputId": "07465329-e0db-47ad-ea93-666478fcbb1f"
      },
      "outputs": [
        {
          "output_type": "stream",
          "name": "stdout",
          "text": [
            "0.4918100606570558 0.5038051750380518\n"
          ]
        }
      ],
      "source": [
        "from IPython.core import macro\n",
        "xgb= xgb.XGBClassifier(class_weight='balanced', max_depth= 5, min_child_weight= 4, min_samples_split= 3, sampling_method= 'uniform')\n",
        "xgb.fit(x_train, y_train)\n",
        "p=xgb.predict(x_test)\n",
        "print(metrics.f1_score(p ,y_test , average= 'macro'), metrics.accuracy_score(p , y_test ))"
      ]
    },
    {
      "cell_type": "markdown",
      "source": [
        "Test"
      ],
      "metadata": {
        "id": "cFWpWkwns9eD"
      }
    },
    {
      "cell_type": "code",
      "execution_count": null,
      "metadata": {
        "id": "5jksq8PuQ9yl"
      },
      "outputs": [],
      "source": [
        "#####extracting features of evaluation set\n",
        "lis= []\n",
        "dic= {}\n",
        "for i in pathtest:\n",
        "  id= i.split('/')[-1].split('.')[0]\n",
        "  feature= feature_extract(i)\n",
        "  lis.append(feature)\n",
        "  dic[id]= feature"
      ]
    },
    {
      "cell_type": "code",
      "execution_count": null,
      "metadata": {
        "id": "uzpsNeOlRCwu"
      },
      "outputs": [],
      "source": [
        "data= pd.DataFrame(dic.values(), index= dic.keys())\n",
        "data['audio_name']= dic.keys()"
      ]
    },
    {
      "cell_type": "code",
      "execution_count": null,
      "metadata": {
        "colab": {
          "base_uri": "https://localhost:8080/"
        },
        "id": "d6ovXC08RDn3",
        "outputId": "8c11c306-5ace-4e1d-f782-a1d88c12b2a4"
      },
      "outputs": [
        {
          "output_type": "execute_result",
          "data": {
            "text/plain": [
              "(1455, 738)"
            ]
          },
          "metadata": {},
          "execution_count": 44
        }
      ],
      "source": [
        "test= pd.merge(df3, data, on= ['audio_name'])\n",
        "test.shape"
      ]
    },
    {
      "cell_type": "code",
      "execution_count": null,
      "metadata": {
        "colab": {
          "base_uri": "https://localhost:8080/"
        },
        "id": "2ooERGtjRHA7",
        "outputId": "1c8229bb-468f-4e43-81e8-29120224007f"
      },
      "outputs": [
        {
          "output_type": "execute_result",
          "data": {
            "text/plain": [
              "(1455, 734)"
            ]
          },
          "metadata": {},
          "execution_count": 45
        }
      ],
      "source": [
        "test= test.drop(['audio_name', 'speakerId', 'action', 'object'], axis= 1)\n",
        "test.shape"
      ]
    },
    {
      "cell_type": "code",
      "execution_count": null,
      "metadata": {
        "id": "pI3pkLS-RMNj"
      },
      "outputs": [],
      "source": [
        "pred= xgb.predict(test)"
      ]
    },
    {
      "cell_type": "code",
      "execution_count": null,
      "metadata": {
        "id": "VyJz5VOmRO1J"
      },
      "outputs": [],
      "source": [
        "predict= pd.DataFrame(le.inverse_transform(list(pred)), columns= {'Predicted'})"
      ]
    },
    {
      "cell_type": "code",
      "execution_count": null,
      "metadata": {
        "id": "F459kOd9RRK7"
      },
      "outputs": [],
      "source": [
        "predict.to_csv('/content/drive/MyDrive/XGBoost.csv')"
      ]
    }
  ],
  "metadata": {
    "colab": {
      "provenance": []
    },
    "kernelspec": {
      "display_name": "Python 3",
      "name": "python3"
    },
    "language_info": {
      "name": "python"
    }
  },
  "nbformat": 4,
  "nbformat_minor": 0
}